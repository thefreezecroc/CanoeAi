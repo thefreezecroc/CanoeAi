{
 "cells": [
  {
   "cell_type": "code",
   "execution_count": 38,
   "id": "c9c1cc22",
   "metadata": {},
   "outputs": [],
   "source": [
    "import pandas as pd\n",
    "\n",
    "# Csak O\n",
    "def load_and_process_measurements(csv_path: str) -> pd.DataFrame:\n",
    "    df = pd.read_csv(csv_path)\n",
    "\n",
    "    df['label'] = -1\n",
    "    current_label = -1\n",
    "    in_measurement = False\n",
    "\n",
    "    for idx, row in df.iterrows():\n",
    "        if (row == 'O').any():\n",
    "            current_label += 1\n",
    "            in_measurement = True\n",
    "        if in_measurement:\n",
    "            df.at[idx, 'label'] = current_label\n",
    "        else:\n",
    "            df.at[idx, 'label'] = -1\n",
    "\n",
    "    df = df[~df.apply(\n",
    "        lambda row: row.astype(str).eq('X').any() or row.astype(str).eq('O').any(), axis=1)]\n",
    "\n",
    "    df = df[df['label'] != -1]\n",
    "    df.reset_index(inplace=True, drop=True)\n",
    "\n",
    "    df = df.astype(float)\n",
    "\n",
    "    df['time'] = df['Timestamp'] - df['Timestamp'].iloc[0]\n",
    "\n",
    "    df['relative_time'] = df.groupby('label')['Timestamp'].transform(lambda x: x - x.iloc[0])\n",
    "\n",
    "    df = df.drop(columns=['Timestamp'])\n",
    "\n",
    "    return df\n"
   ]
  },
  {
   "cell_type": "code",
   "execution_count": null,
   "id": "976232fa",
   "metadata": {},
   "outputs": [],
   "source": [
    "import pandas as pd\n",
    "\n",
    "# X O\n",
    "def load_and_process_measurements2(csv_path: str) -> pd.DataFrame:\n",
    "    df = pd.read_csv(csv_path)\n",
    "\n",
    "    df['label'] = -1\n",
    "    current_label = -1\n",
    "    in_measurement = False\n",
    "\n",
    "    for idx, row in df.iterrows():\n",
    "        if (row == 'X').any():\n",
    "            current_label += 1\n",
    "            in_measurement = True\n",
    "            df.at[idx, 'label'] = current_label\n",
    "        elif (row == 'O').any():\n",
    "            df.at[idx, 'label'] = current_label\n",
    "            in_measurement = False\n",
    "        elif in_measurement:\n",
    "            df.at[idx, 'label'] = current_label\n",
    "        else:\n",
    "            df.at[idx, 'label'] = -1\n",
    "\n",
    "    df = df[~df.apply(\n",
    "        lambda row: row.astype(str).eq('X').any() or row.astype(str).eq('O').any(), axis=1)]\n",
    "\n",
    "    df = df[df['label'] != -1]\n",
    "    df.reset_index(inplace=True, drop=True)\n",
    "\n",
    "    df = df.astype(float)\n",
    "\n",
    "    df['time'] = df['Timestamp'] - df['Timestamp'].iloc[0]\n",
    "\n",
    "    df['relative_time'] = df.groupby('label')['Timestamp'].transform(lambda x: x - x.iloc[0])\n",
    "\n",
    "    df = df.drop(columns=['Timestamp'])\n",
    "\n",
    "    return df\n"
   ]
  },
  {
   "cell_type": "code",
   "execution_count": 39,
   "id": "fb7ff5ed",
   "metadata": {},
   "outputs": [
    {
     "name": "stdout",
     "output_type": "stream",
     "text": [
      "Correct circles length: 4699 Number of measurements: 139 Avg measurement length: 33.805755395683455\n",
      "Longest measuremet: 71 Shortest: 16\n"
     ]
    },
    {
     "data": {
      "text/html": [
       "<div>\n",
       "<style scoped>\n",
       "    .dataframe tbody tr th:only-of-type {\n",
       "        vertical-align: middle;\n",
       "    }\n",
       "\n",
       "    .dataframe tbody tr th {\n",
       "        vertical-align: top;\n",
       "    }\n",
       "\n",
       "    .dataframe thead th {\n",
       "        text-align: right;\n",
       "    }\n",
       "</style>\n",
       "<table border=\"1\" class=\"dataframe\">\n",
       "  <thead>\n",
       "    <tr style=\"text-align: right;\">\n",
       "      <th></th>\n",
       "      <th>linear_accelerationX</th>\n",
       "      <th>linear_accelerationY</th>\n",
       "      <th>linear_accelerationZ</th>\n",
       "      <th>magX</th>\n",
       "      <th>magY</th>\n",
       "      <th>magZ</th>\n",
       "      <th>gyroX</th>\n",
       "      <th>gyroY</th>\n",
       "      <th>gyroZ</th>\n",
       "      <th>accX</th>\n",
       "      <th>accY</th>\n",
       "      <th>accZ</th>\n",
       "      <th>label</th>\n",
       "      <th>time</th>\n",
       "      <th>relative_time</th>\n",
       "    </tr>\n",
       "  </thead>\n",
       "  <tbody>\n",
       "    <tr>\n",
       "      <th>0</th>\n",
       "      <td>-0.495340</td>\n",
       "      <td>-0.240406</td>\n",
       "      <td>-0.489004</td>\n",
       "      <td>40.148926</td>\n",
       "      <td>7.897949</td>\n",
       "      <td>-52.490234</td>\n",
       "      <td>55.969238</td>\n",
       "      <td>43.945312</td>\n",
       "      <td>2.441406</td>\n",
       "      <td>0.376709</td>\n",
       "      <td>-0.005981</td>\n",
       "      <td>-0.542114</td>\n",
       "      <td>0.0</td>\n",
       "      <td>0.000000</td>\n",
       "      <td>0.000000</td>\n",
       "    </tr>\n",
       "    <tr>\n",
       "      <th>1</th>\n",
       "      <td>-0.468664</td>\n",
       "      <td>-0.208340</td>\n",
       "      <td>-0.756682</td>\n",
       "      <td>41.857910</td>\n",
       "      <td>7.775879</td>\n",
       "      <td>-48.010254</td>\n",
       "      <td>36.376953</td>\n",
       "      <td>69.335938</td>\n",
       "      <td>20.629883</td>\n",
       "      <td>0.395508</td>\n",
       "      <td>0.022583</td>\n",
       "      <td>-0.822510</td>\n",
       "      <td>0.0</td>\n",
       "      <td>0.045399</td>\n",
       "      <td>0.045399</td>\n",
       "    </tr>\n",
       "    <tr>\n",
       "      <th>2</th>\n",
       "      <td>-0.379162</td>\n",
       "      <td>0.045053</td>\n",
       "      <td>-1.139748</td>\n",
       "      <td>41.943359</td>\n",
       "      <td>5.725098</td>\n",
       "      <td>-43.017578</td>\n",
       "      <td>-8.728027</td>\n",
       "      <td>109.558105</td>\n",
       "      <td>38.757324</td>\n",
       "      <td>0.478638</td>\n",
       "      <td>0.276733</td>\n",
       "      <td>-1.224731</td>\n",
       "      <td>0.0</td>\n",
       "      <td>0.090187</td>\n",
       "      <td>0.090187</td>\n",
       "    </tr>\n",
       "    <tr>\n",
       "      <th>3</th>\n",
       "      <td>0.146213</td>\n",
       "      <td>0.182609</td>\n",
       "      <td>-0.921982</td>\n",
       "      <td>42.163086</td>\n",
       "      <td>1.721191</td>\n",
       "      <td>-36.535645</td>\n",
       "      <td>29.846191</td>\n",
       "      <td>152.465820</td>\n",
       "      <td>70.312500</td>\n",
       "      <td>1.006470</td>\n",
       "      <td>0.417358</td>\n",
       "      <td>-1.022461</td>\n",
       "      <td>0.0</td>\n",
       "      <td>0.135009</td>\n",
       "      <td>0.135009</td>\n",
       "    </tr>\n",
       "    <tr>\n",
       "      <th>4</th>\n",
       "      <td>1.387541</td>\n",
       "      <td>0.082828</td>\n",
       "      <td>-1.032558</td>\n",
       "      <td>40.551758</td>\n",
       "      <td>-2.331543</td>\n",
       "      <td>-28.564453</td>\n",
       "      <td>-67.687988</td>\n",
       "      <td>174.499512</td>\n",
       "      <td>91.003418</td>\n",
       "      <td>2.271118</td>\n",
       "      <td>0.318970</td>\n",
       "      <td>-1.150391</td>\n",
       "      <td>0.0</td>\n",
       "      <td>0.180028</td>\n",
       "      <td>0.180028</td>\n",
       "    </tr>\n",
       "  </tbody>\n",
       "</table>\n",
       "</div>"
      ],
      "text/plain": [
       "   linear_accelerationX  linear_accelerationY  linear_accelerationZ  \\\n",
       "0             -0.495340             -0.240406             -0.489004   \n",
       "1             -0.468664             -0.208340             -0.756682   \n",
       "2             -0.379162              0.045053             -1.139748   \n",
       "3              0.146213              0.182609             -0.921982   \n",
       "4              1.387541              0.082828             -1.032558   \n",
       "\n",
       "        magX      magY       magZ      gyroX       gyroY      gyroZ      accX  \\\n",
       "0  40.148926  7.897949 -52.490234  55.969238   43.945312   2.441406  0.376709   \n",
       "1  41.857910  7.775879 -48.010254  36.376953   69.335938  20.629883  0.395508   \n",
       "2  41.943359  5.725098 -43.017578  -8.728027  109.558105  38.757324  0.478638   \n",
       "3  42.163086  1.721191 -36.535645  29.846191  152.465820  70.312500  1.006470   \n",
       "4  40.551758 -2.331543 -28.564453 -67.687988  174.499512  91.003418  2.271118   \n",
       "\n",
       "       accY      accZ  label      time  relative_time  \n",
       "0 -0.005981 -0.542114    0.0  0.000000       0.000000  \n",
       "1  0.022583 -0.822510    0.0  0.045399       0.045399  \n",
       "2  0.276733 -1.224731    0.0  0.090187       0.090187  \n",
       "3  0.417358 -1.022461    0.0  0.135009       0.135009  \n",
       "4  0.318970 -1.150391    0.0  0.180028       0.180028  "
      ]
     },
     "execution_count": 39,
     "metadata": {},
     "output_type": "execute_result"
    }
   ],
   "source": [
    "correct = load_and_process_measurements(r'correct_evezesek3.csv')\n",
    "print('Correct circles length:', correct.shape[0], 'Number of measurements:', correct['label'].nunique(), 'Avg measurement length:', correct.shape[0] / correct['label'].nunique())\n",
    "print('Longest measuremet:', correct['label'].value_counts().max(), 'Shortest:', correct['label'].value_counts().min())\n",
    "correct.head()"
   ]
  },
  {
   "cell_type": "code",
   "execution_count": 40,
   "id": "a9cfea69",
   "metadata": {},
   "outputs": [
    {
     "name": "stdout",
     "output_type": "stream",
     "text": [
      "Incorrect circles length: 3547 Number of measurements: 63 Avg measurement length: 56.301587301587304\n",
      "Longest measuremet: 692 Shortest: 23\n"
     ]
    },
    {
     "data": {
      "text/html": [
       "<div>\n",
       "<style scoped>\n",
       "    .dataframe tbody tr th:only-of-type {\n",
       "        vertical-align: middle;\n",
       "    }\n",
       "\n",
       "    .dataframe tbody tr th {\n",
       "        vertical-align: top;\n",
       "    }\n",
       "\n",
       "    .dataframe thead th {\n",
       "        text-align: right;\n",
       "    }\n",
       "</style>\n",
       "<table border=\"1\" class=\"dataframe\">\n",
       "  <thead>\n",
       "    <tr style=\"text-align: right;\">\n",
       "      <th></th>\n",
       "      <th>linear_accelerationX</th>\n",
       "      <th>linear_accelerationY</th>\n",
       "      <th>linear_accelerationZ</th>\n",
       "      <th>magX</th>\n",
       "      <th>magY</th>\n",
       "      <th>magZ</th>\n",
       "      <th>gyroX</th>\n",
       "      <th>gyroY</th>\n",
       "      <th>gyroZ</th>\n",
       "      <th>accX</th>\n",
       "      <th>accY</th>\n",
       "      <th>accZ</th>\n",
       "      <th>label</th>\n",
       "      <th>time</th>\n",
       "      <th>relative_time</th>\n",
       "    </tr>\n",
       "  </thead>\n",
       "  <tbody>\n",
       "    <tr>\n",
       "      <th>0</th>\n",
       "      <td>-0.062460</td>\n",
       "      <td>0.227142</td>\n",
       "      <td>0.127306</td>\n",
       "      <td>41.784668</td>\n",
       "      <td>-2.136230</td>\n",
       "      <td>-16.198730</td>\n",
       "      <td>55.908203</td>\n",
       "      <td>22.338867</td>\n",
       "      <td>7.385254</td>\n",
       "      <td>0.865845</td>\n",
       "      <td>0.054443</td>\n",
       "      <td>0.112183</td>\n",
       "      <td>0.0</td>\n",
       "      <td>0.000000</td>\n",
       "      <td>0.000000</td>\n",
       "    </tr>\n",
       "    <tr>\n",
       "      <th>1</th>\n",
       "      <td>0.039296</td>\n",
       "      <td>0.002371</td>\n",
       "      <td>0.163859</td>\n",
       "      <td>41.503906</td>\n",
       "      <td>-2.954102</td>\n",
       "      <td>-16.149902</td>\n",
       "      <td>38.818359</td>\n",
       "      <td>18.676758</td>\n",
       "      <td>11.108398</td>\n",
       "      <td>0.968262</td>\n",
       "      <td>-0.170288</td>\n",
       "      <td>0.151489</td>\n",
       "      <td>0.0</td>\n",
       "      <td>0.044976</td>\n",
       "      <td>0.044976</td>\n",
       "    </tr>\n",
       "    <tr>\n",
       "      <th>2</th>\n",
       "      <td>0.009234</td>\n",
       "      <td>0.103056</td>\n",
       "      <td>0.064508</td>\n",
       "      <td>41.784668</td>\n",
       "      <td>-3.527832</td>\n",
       "      <td>-16.784668</td>\n",
       "      <td>27.832031</td>\n",
       "      <td>13.854980</td>\n",
       "      <td>12.573242</td>\n",
       "      <td>0.938354</td>\n",
       "      <td>-0.067871</td>\n",
       "      <td>0.053223</td>\n",
       "      <td>0.0</td>\n",
       "      <td>0.090005</td>\n",
       "      <td>0.090005</td>\n",
       "    </tr>\n",
       "    <tr>\n",
       "      <th>3</th>\n",
       "      <td>-0.117454</td>\n",
       "      <td>0.101833</td>\n",
       "      <td>-0.042925</td>\n",
       "      <td>40.856934</td>\n",
       "      <td>-3.967285</td>\n",
       "      <td>-18.212891</td>\n",
       "      <td>26.733398</td>\n",
       "      <td>11.108398</td>\n",
       "      <td>13.610840</td>\n",
       "      <td>0.809692</td>\n",
       "      <td>-0.067383</td>\n",
       "      <td>-0.054932</td>\n",
       "      <td>0.0</td>\n",
       "      <td>0.135043</td>\n",
       "      <td>0.135043</td>\n",
       "    </tr>\n",
       "    <tr>\n",
       "      <th>4</th>\n",
       "      <td>0.044397</td>\n",
       "      <td>0.163297</td>\n",
       "      <td>-0.043656</td>\n",
       "      <td>40.820312</td>\n",
       "      <td>-4.223633</td>\n",
       "      <td>-17.858887</td>\n",
       "      <td>58.593750</td>\n",
       "      <td>9.887695</td>\n",
       "      <td>13.793945</td>\n",
       "      <td>0.972290</td>\n",
       "      <td>-0.003174</td>\n",
       "      <td>-0.056396</td>\n",
       "      <td>0.0</td>\n",
       "      <td>0.179982</td>\n",
       "      <td>0.179982</td>\n",
       "    </tr>\n",
       "  </tbody>\n",
       "</table>\n",
       "</div>"
      ],
      "text/plain": [
       "   linear_accelerationX  linear_accelerationY  linear_accelerationZ  \\\n",
       "0             -0.062460              0.227142              0.127306   \n",
       "1              0.039296              0.002371              0.163859   \n",
       "2              0.009234              0.103056              0.064508   \n",
       "3             -0.117454              0.101833             -0.042925   \n",
       "4              0.044397              0.163297             -0.043656   \n",
       "\n",
       "        magX      magY       magZ      gyroX      gyroY      gyroZ      accX  \\\n",
       "0  41.784668 -2.136230 -16.198730  55.908203  22.338867   7.385254  0.865845   \n",
       "1  41.503906 -2.954102 -16.149902  38.818359  18.676758  11.108398  0.968262   \n",
       "2  41.784668 -3.527832 -16.784668  27.832031  13.854980  12.573242  0.938354   \n",
       "3  40.856934 -3.967285 -18.212891  26.733398  11.108398  13.610840  0.809692   \n",
       "4  40.820312 -4.223633 -17.858887  58.593750   9.887695  13.793945  0.972290   \n",
       "\n",
       "       accY      accZ  label      time  relative_time  \n",
       "0  0.054443  0.112183    0.0  0.000000       0.000000  \n",
       "1 -0.170288  0.151489    0.0  0.044976       0.044976  \n",
       "2 -0.067871  0.053223    0.0  0.090005       0.090005  \n",
       "3 -0.067383 -0.054932    0.0  0.135043       0.135043  \n",
       "4 -0.003174 -0.056396    0.0  0.179982       0.179982  "
      ]
     },
     "execution_count": 40,
     "metadata": {},
     "output_type": "execute_result"
    }
   ],
   "source": [
    "incorrect = load_and_process_measurements(r'david_szar_evezesei2.csv')\n",
    "print('Incorrect circles length:', incorrect.shape[0], 'Number of measurements:', incorrect['label'].nunique(), 'Avg measurement length:', incorrect.shape[0] / incorrect['label'].nunique())\n",
    "print('Longest measuremet:', incorrect['label'].value_counts().max(), 'Shortest:', incorrect['label'].value_counts().min())\n",
    "incorrect.head()"
   ]
  },
  {
   "cell_type": "code",
   "execution_count": 41,
   "id": "eb98d40b",
   "metadata": {},
   "outputs": [],
   "source": [
    "import numpy as np\n",
    "from tensorflow.keras.preprocessing.sequence import pad_sequences\n",
    "\n",
    "def prepare_sequence_data(df: pd.DataFrame, label_value: int, max_len: int = None):\n",
    "    feature_cols = df.columns.difference(['label', 'time'])\n",
    "    sequences = []\n",
    "    labels = []\n",
    "    \n",
    "    grouped = df.groupby('label')\n",
    "\n",
    "    for _, group in grouped:\n",
    "        seq = group[feature_cols].values\n",
    "        sequences.append(seq)\n",
    "        labels.append(label_value)\n",
    "\n",
    "    if max_len is None:\n",
    "        max_len = max(len(seq) for seq in sequences)\n",
    "\n",
    "    sequences_padded = pad_sequences(sequences, maxlen=max_len, padding='post', dtype='float32')\n",
    "    labels = np.array(labels)\n",
    "\n",
    "    return sequences_padded, labels\n"
   ]
  },
  {
   "cell_type": "code",
   "execution_count": 42,
   "id": "2d4fba10",
   "metadata": {},
   "outputs": [
    {
     "name": "stderr",
     "output_type": "stream",
     "text": [
      "/home/davidka/.conda/envs/MachineLearning/lib/python3.10/site-packages/keras/src/layers/core/masking.py:48: UserWarning: Do not pass an `input_shape`/`input_dim` argument to a layer. When using Sequential models, prefer using an `Input(shape)` object as the first layer in the model instead.\n",
      "  super().__init__(**kwargs)\n",
      "/home/davidka/.conda/envs/MachineLearning/lib/python3.10/site-packages/keras/src/layers/layer.py:965: UserWarning: Layer 'conv1d_2' (of type Conv1D) was passed an input with a mask attached to it. However, this layer does not support masking and will therefore destroy the mask information. Downstream layers will not see the mask.\n",
      "  warnings.warn(\n"
     ]
    },
    {
     "data": {
      "text/html": [
       "<pre style=\"white-space:pre;overflow-x:auto;line-height:normal;font-family:Menlo,'DejaVu Sans Mono',consolas,'Courier New',monospace\"><span style=\"font-weight: bold\">Model: \"sequential_2\"</span>\n",
       "</pre>\n"
      ],
      "text/plain": [
       "\u001b[1mModel: \"sequential_2\"\u001b[0m\n"
      ]
     },
     "metadata": {},
     "output_type": "display_data"
    },
    {
     "data": {
      "text/html": [
       "<pre style=\"white-space:pre;overflow-x:auto;line-height:normal;font-family:Menlo,'DejaVu Sans Mono',consolas,'Courier New',monospace\">┏━━━━━━━━━━━━━━━━━━━━━━━━━━━━━━━━━┳━━━━━━━━━━━━━━━━━━━━━━━━┳━━━━━━━━━━━━━━━┓\n",
       "┃<span style=\"font-weight: bold\"> Layer (type)                    </span>┃<span style=\"font-weight: bold\"> Output Shape           </span>┃<span style=\"font-weight: bold\">       Param # </span>┃\n",
       "┡━━━━━━━━━━━━━━━━━━━━━━━━━━━━━━━━━╇━━━━━━━━━━━━━━━━━━━━━━━━╇━━━━━━━━━━━━━━━┩\n",
       "│ masking_2 (<span style=\"color: #0087ff; text-decoration-color: #0087ff\">Masking</span>)             │ (<span style=\"color: #00d7ff; text-decoration-color: #00d7ff\">None</span>, <span style=\"color: #00af00; text-decoration-color: #00af00\">71</span>, <span style=\"color: #00af00; text-decoration-color: #00af00\">13</span>)         │             <span style=\"color: #00af00; text-decoration-color: #00af00\">0</span> │\n",
       "├─────────────────────────────────┼────────────────────────┼───────────────┤\n",
       "│ conv1d_2 (<span style=\"color: #0087ff; text-decoration-color: #0087ff\">Conv1D</span>)               │ (<span style=\"color: #00d7ff; text-decoration-color: #00d7ff\">None</span>, <span style=\"color: #00af00; text-decoration-color: #00af00\">67</span>, <span style=\"color: #00af00; text-decoration-color: #00af00\">64</span>)         │         <span style=\"color: #00af00; text-decoration-color: #00af00\">4,224</span> │\n",
       "├─────────────────────────────────┼────────────────────────┼───────────────┤\n",
       "│ global_max_pooling1d_2          │ (<span style=\"color: #00d7ff; text-decoration-color: #00d7ff\">None</span>, <span style=\"color: #00af00; text-decoration-color: #00af00\">64</span>)             │             <span style=\"color: #00af00; text-decoration-color: #00af00\">0</span> │\n",
       "│ (<span style=\"color: #0087ff; text-decoration-color: #0087ff\">GlobalMaxPooling1D</span>)            │                        │               │\n",
       "├─────────────────────────────────┼────────────────────────┼───────────────┤\n",
       "│ dropout_2 (<span style=\"color: #0087ff; text-decoration-color: #0087ff\">Dropout</span>)             │ (<span style=\"color: #00d7ff; text-decoration-color: #00d7ff\">None</span>, <span style=\"color: #00af00; text-decoration-color: #00af00\">64</span>)             │             <span style=\"color: #00af00; text-decoration-color: #00af00\">0</span> │\n",
       "├─────────────────────────────────┼────────────────────────┼───────────────┤\n",
       "│ dense_4 (<span style=\"color: #0087ff; text-decoration-color: #0087ff\">Dense</span>)                 │ (<span style=\"color: #00d7ff; text-decoration-color: #00d7ff\">None</span>, <span style=\"color: #00af00; text-decoration-color: #00af00\">32</span>)             │         <span style=\"color: #00af00; text-decoration-color: #00af00\">2,080</span> │\n",
       "├─────────────────────────────────┼────────────────────────┼───────────────┤\n",
       "│ dense_5 (<span style=\"color: #0087ff; text-decoration-color: #0087ff\">Dense</span>)                 │ (<span style=\"color: #00d7ff; text-decoration-color: #00d7ff\">None</span>, <span style=\"color: #00af00; text-decoration-color: #00af00\">1</span>)              │            <span style=\"color: #00af00; text-decoration-color: #00af00\">33</span> │\n",
       "└─────────────────────────────────┴────────────────────────┴───────────────┘\n",
       "</pre>\n"
      ],
      "text/plain": [
       "┏━━━━━━━━━━━━━━━━━━━━━━━━━━━━━━━━━┳━━━━━━━━━━━━━━━━━━━━━━━━┳━━━━━━━━━━━━━━━┓\n",
       "┃\u001b[1m \u001b[0m\u001b[1mLayer (type)                   \u001b[0m\u001b[1m \u001b[0m┃\u001b[1m \u001b[0m\u001b[1mOutput Shape          \u001b[0m\u001b[1m \u001b[0m┃\u001b[1m \u001b[0m\u001b[1m      Param #\u001b[0m\u001b[1m \u001b[0m┃\n",
       "┡━━━━━━━━━━━━━━━━━━━━━━━━━━━━━━━━━╇━━━━━━━━━━━━━━━━━━━━━━━━╇━━━━━━━━━━━━━━━┩\n",
       "│ masking_2 (\u001b[38;5;33mMasking\u001b[0m)             │ (\u001b[38;5;45mNone\u001b[0m, \u001b[38;5;34m71\u001b[0m, \u001b[38;5;34m13\u001b[0m)         │             \u001b[38;5;34m0\u001b[0m │\n",
       "├─────────────────────────────────┼────────────────────────┼───────────────┤\n",
       "│ conv1d_2 (\u001b[38;5;33mConv1D\u001b[0m)               │ (\u001b[38;5;45mNone\u001b[0m, \u001b[38;5;34m67\u001b[0m, \u001b[38;5;34m64\u001b[0m)         │         \u001b[38;5;34m4,224\u001b[0m │\n",
       "├─────────────────────────────────┼────────────────────────┼───────────────┤\n",
       "│ global_max_pooling1d_2          │ (\u001b[38;5;45mNone\u001b[0m, \u001b[38;5;34m64\u001b[0m)             │             \u001b[38;5;34m0\u001b[0m │\n",
       "│ (\u001b[38;5;33mGlobalMaxPooling1D\u001b[0m)            │                        │               │\n",
       "├─────────────────────────────────┼────────────────────────┼───────────────┤\n",
       "│ dropout_2 (\u001b[38;5;33mDropout\u001b[0m)             │ (\u001b[38;5;45mNone\u001b[0m, \u001b[38;5;34m64\u001b[0m)             │             \u001b[38;5;34m0\u001b[0m │\n",
       "├─────────────────────────────────┼────────────────────────┼───────────────┤\n",
       "│ dense_4 (\u001b[38;5;33mDense\u001b[0m)                 │ (\u001b[38;5;45mNone\u001b[0m, \u001b[38;5;34m32\u001b[0m)             │         \u001b[38;5;34m2,080\u001b[0m │\n",
       "├─────────────────────────────────┼────────────────────────┼───────────────┤\n",
       "│ dense_5 (\u001b[38;5;33mDense\u001b[0m)                 │ (\u001b[38;5;45mNone\u001b[0m, \u001b[38;5;34m1\u001b[0m)              │            \u001b[38;5;34m33\u001b[0m │\n",
       "└─────────────────────────────────┴────────────────────────┴───────────────┘\n"
      ]
     },
     "metadata": {},
     "output_type": "display_data"
    },
    {
     "data": {
      "text/html": [
       "<pre style=\"white-space:pre;overflow-x:auto;line-height:normal;font-family:Menlo,'DejaVu Sans Mono',consolas,'Courier New',monospace\"><span style=\"font-weight: bold\"> Total params: </span><span style=\"color: #00af00; text-decoration-color: #00af00\">6,337</span> (24.75 KB)\n",
       "</pre>\n"
      ],
      "text/plain": [
       "\u001b[1m Total params: \u001b[0m\u001b[38;5;34m6,337\u001b[0m (24.75 KB)\n"
      ]
     },
     "metadata": {},
     "output_type": "display_data"
    },
    {
     "data": {
      "text/html": [
       "<pre style=\"white-space:pre;overflow-x:auto;line-height:normal;font-family:Menlo,'DejaVu Sans Mono',consolas,'Courier New',monospace\"><span style=\"font-weight: bold\"> Trainable params: </span><span style=\"color: #00af00; text-decoration-color: #00af00\">6,337</span> (24.75 KB)\n",
       "</pre>\n"
      ],
      "text/plain": [
       "\u001b[1m Trainable params: \u001b[0m\u001b[38;5;34m6,337\u001b[0m (24.75 KB)\n"
      ]
     },
     "metadata": {},
     "output_type": "display_data"
    },
    {
     "data": {
      "text/html": [
       "<pre style=\"white-space:pre;overflow-x:auto;line-height:normal;font-family:Menlo,'DejaVu Sans Mono',consolas,'Courier New',monospace\"><span style=\"font-weight: bold\"> Non-trainable params: </span><span style=\"color: #00af00; text-decoration-color: #00af00\">0</span> (0.00 B)\n",
       "</pre>\n"
      ],
      "text/plain": [
       "\u001b[1m Non-trainable params: \u001b[0m\u001b[38;5;34m0\u001b[0m (0.00 B)\n"
      ]
     },
     "metadata": {},
     "output_type": "display_data"
    }
   ],
   "source": [
    "from tensorflow.keras.models import Sequential\n",
    "from tensorflow.keras.layers import Conv1D, GlobalMaxPooling1D, Dense, Dropout, Masking\n",
    "\n",
    "X_correct, y_correct = prepare_sequence_data(correct, label_value=1)\n",
    "X_incorrect, y_incorrect = prepare_sequence_data(incorrect, label_value=0, max_len=X_correct.shape[1])\n",
    "\n",
    "X = np.concatenate([X_correct, X_incorrect], axis=0)\n",
    "y = np.concatenate([y_correct, y_incorrect], axis=0)\n",
    "\n",
    "from sklearn.model_selection import train_test_split\n",
    "X_train, X_test, y_train, y_test = train_test_split(X, y, test_size=0.2, random_state=42)\n",
    "\n",
    "model = Sequential([\n",
    "    Masking(mask_value=0., input_shape=(X.shape[1], X.shape[2])),\n",
    "    Conv1D(64, kernel_size=5, activation='relu'),\n",
    "    GlobalMaxPooling1D(),\n",
    "    Dropout(0.3),\n",
    "    Dense(32, activation='relu'),\n",
    "    Dense(1, activation='sigmoid')\n",
    "])\n",
    "\n",
    "model.compile(optimizer='adam', loss='binary_crossentropy', metrics=['accuracy'])\n",
    "model.summary()\n"
   ]
  },
  {
   "cell_type": "code",
   "execution_count": 43,
   "id": "6bc75ace",
   "metadata": {},
   "outputs": [],
   "source": [
    "from tensorflow.keras.callbacks import ModelCheckpoint\n",
    "\n",
    "ch = ModelCheckpoint(\n",
    "    'stroke_model3.h5',\n",
    "    monitor='val_accuracy',\n",
    "    verbose=0,\n",
    "    save_best_only=True,\n",
    "    mode='auto'\n",
    ")"
   ]
  },
  {
   "cell_type": "code",
   "execution_count": 44,
   "id": "b950f5fe",
   "metadata": {},
   "outputs": [
    {
     "name": "stdout",
     "output_type": "stream",
     "text": [
      "Epoch 1/20\n",
      "\u001b[1m16/16\u001b[0m \u001b[32m━━━━━━━━━━━━━━━━━━━━\u001b[0m\u001b[37m\u001b[0m \u001b[1m0s\u001b[0m 3ms/step - accuracy: 0.5377 - loss: 5.5254 "
     ]
    },
    {
     "name": "stderr",
     "output_type": "stream",
     "text": [
      "WARNING:absl:You are saving your model as an HDF5 file via `model.save()` or `keras.saving.save_model(model)`. This file format is considered legacy. We recommend using instead the native Keras format, e.g. `model.save('my_model.keras')` or `keras.saving.save_model(model, 'my_model.keras')`. \n"
     ]
    },
    {
     "name": "stdout",
     "output_type": "stream",
     "text": [
      "\u001b[1m16/16\u001b[0m \u001b[32m━━━━━━━━━━━━━━━━━━━━\u001b[0m\u001b[37m\u001b[0m \u001b[1m1s\u001b[0m 20ms/step - accuracy: 0.5442 - loss: 5.4753 - val_accuracy: 0.8485 - val_loss: 0.8096\n",
      "Epoch 2/20\n",
      "\u001b[1m 1/16\u001b[0m \u001b[32m━\u001b[0m\u001b[37m━━━━━━━━━━━━━━━━━━━\u001b[0m \u001b[1m0s\u001b[0m 27ms/step - accuracy: 1.0000 - loss: 8.9267e-04"
     ]
    },
    {
     "name": "stderr",
     "output_type": "stream",
     "text": [
      "WARNING:absl:You are saving your model as an HDF5 file via `model.save()` or `keras.saving.save_model(model)`. This file format is considered legacy. We recommend using instead the native Keras format, e.g. `model.save('my_model.keras')` or `keras.saving.save_model(model, 'my_model.keras')`. \n"
     ]
    },
    {
     "name": "stdout",
     "output_type": "stream",
     "text": [
      "\u001b[1m16/16\u001b[0m \u001b[32m━━━━━━━━━━━━━━━━━━━━\u001b[0m\u001b[37m\u001b[0m \u001b[1m0s\u001b[0m 9ms/step - accuracy: 0.8569 - loss: 1.5155 - val_accuracy: 0.8788 - val_loss: 1.2763\n",
      "Epoch 3/20\n",
      "\u001b[1m 1/16\u001b[0m \u001b[32m━\u001b[0m\u001b[37m━━━━━━━━━━━━━━━━━━━\u001b[0m \u001b[1m0s\u001b[0m 30ms/step - accuracy: 0.8750 - loss: 1.3419"
     ]
    },
    {
     "name": "stderr",
     "output_type": "stream",
     "text": [
      "WARNING:absl:You are saving your model as an HDF5 file via `model.save()` or `keras.saving.save_model(model)`. This file format is considered legacy. We recommend using instead the native Keras format, e.g. `model.save('my_model.keras')` or `keras.saving.save_model(model, 'my_model.keras')`. \n"
     ]
    },
    {
     "name": "stdout",
     "output_type": "stream",
     "text": [
      "\u001b[1m16/16\u001b[0m \u001b[32m━━━━━━━━━━━━━━━━━━━━\u001b[0m\u001b[37m\u001b[0m \u001b[1m0s\u001b[0m 9ms/step - accuracy: 0.8386 - loss: 1.6015 - val_accuracy: 0.9091 - val_loss: 0.6881\n",
      "Epoch 4/20\n",
      "\u001b[1m 1/16\u001b[0m \u001b[32m━\u001b[0m\u001b[37m━━━━━━━━━━━━━━━━━━━\u001b[0m \u001b[1m0s\u001b[0m 27ms/step - accuracy: 0.8750 - loss: 1.2079"
     ]
    },
    {
     "name": "stderr",
     "output_type": "stream",
     "text": [
      "WARNING:absl:You are saving your model as an HDF5 file via `model.save()` or `keras.saving.save_model(model)`. This file format is considered legacy. We recommend using instead the native Keras format, e.g. `model.save('my_model.keras')` or `keras.saving.save_model(model, 'my_model.keras')`. \n"
     ]
    },
    {
     "name": "stdout",
     "output_type": "stream",
     "text": [
      "\u001b[1m16/16\u001b[0m \u001b[32m━━━━━━━━━━━━━━━━━━━━\u001b[0m\u001b[37m\u001b[0m \u001b[1m0s\u001b[0m 9ms/step - accuracy: 0.8420 - loss: 1.9530 - val_accuracy: 0.9394 - val_loss: 0.2548\n",
      "Epoch 5/20\n",
      "\u001b[1m 9/16\u001b[0m \u001b[32m━━━━━━━━━━━\u001b[0m\u001b[37m━━━━━━━━━\u001b[0m \u001b[1m0s\u001b[0m 7ms/step - accuracy: 0.8129 - loss: 1.7478 "
     ]
    },
    {
     "name": "stderr",
     "output_type": "stream",
     "text": [
      "WARNING:absl:You are saving your model as an HDF5 file via `model.save()` or `keras.saving.save_model(model)`. This file format is considered legacy. We recommend using instead the native Keras format, e.g. `model.save('my_model.keras')` or `keras.saving.save_model(model, 'my_model.keras')`. \n"
     ]
    },
    {
     "name": "stdout",
     "output_type": "stream",
     "text": [
      "\u001b[1m16/16\u001b[0m \u001b[32m━━━━━━━━━━━━━━━━━━━━\u001b[0m\u001b[37m\u001b[0m \u001b[1m0s\u001b[0m 14ms/step - accuracy: 0.8244 - loss: 1.5396 - val_accuracy: 0.9697 - val_loss: 0.2726\n",
      "Epoch 6/20\n",
      "\u001b[1m16/16\u001b[0m \u001b[32m━━━━━━━━━━━━━━━━━━━━\u001b[0m\u001b[37m\u001b[0m \u001b[1m0s\u001b[0m 7ms/step - accuracy: 0.9406 - loss: 0.9513 - val_accuracy: 0.9091 - val_loss: 0.5516\n",
      "Epoch 7/20\n",
      "\u001b[1m16/16\u001b[0m \u001b[32m━━━━━━━━━━━━━━━━━━━━\u001b[0m\u001b[37m\u001b[0m \u001b[1m0s\u001b[0m 7ms/step - accuracy: 0.9637 - loss: 0.4215 - val_accuracy: 0.9697 - val_loss: 0.1151\n",
      "Epoch 8/20\n",
      "\u001b[1m16/16\u001b[0m \u001b[32m━━━━━━━━━━━━━━━━━━━━\u001b[0m\u001b[37m\u001b[0m \u001b[1m0s\u001b[0m 8ms/step - accuracy: 0.9072 - loss: 0.9261 - val_accuracy: 0.9697 - val_loss: 0.2628\n",
      "Epoch 9/20\n",
      "\u001b[1m16/16\u001b[0m \u001b[32m━━━━━━━━━━━━━━━━━━━━\u001b[0m\u001b[37m\u001b[0m \u001b[1m0s\u001b[0m 8ms/step - accuracy: 0.9116 - loss: 1.5513 - val_accuracy: 0.9697 - val_loss: 0.2971\n",
      "Epoch 10/20\n",
      "\u001b[1m16/16\u001b[0m \u001b[32m━━━━━━━━━━━━━━━━━━━━\u001b[0m\u001b[37m\u001b[0m \u001b[1m0s\u001b[0m 7ms/step - accuracy: 0.9458 - loss: 0.5457 - val_accuracy: 0.9697 - val_loss: 0.3035\n",
      "Epoch 11/20\n",
      "\u001b[1m16/16\u001b[0m \u001b[32m━━━━━━━━━━━━━━━━━━━━\u001b[0m\u001b[37m\u001b[0m \u001b[1m0s\u001b[0m 7ms/step - accuracy: 0.8441 - loss: 1.1677 - val_accuracy: 0.9697 - val_loss: 0.4960\n",
      "Epoch 12/20\n",
      "\u001b[1m16/16\u001b[0m \u001b[32m━━━━━━━━━━━━━━━━━━━━\u001b[0m\u001b[37m\u001b[0m \u001b[1m0s\u001b[0m 7ms/step - accuracy: 0.9430 - loss: 0.5033 - val_accuracy: 0.9697 - val_loss: 0.2395\n",
      "Epoch 13/20\n",
      "\u001b[1m16/16\u001b[0m \u001b[32m━━━━━━━━━━━━━━━━━━━━\u001b[0m\u001b[37m\u001b[0m \u001b[1m0s\u001b[0m 8ms/step - accuracy: 0.9367 - loss: 0.4668 - val_accuracy: 0.9697 - val_loss: 0.3400\n",
      "Epoch 14/20\n",
      "\u001b[1m16/16\u001b[0m \u001b[32m━━━━━━━━━━━━━━━━━━━━\u001b[0m\u001b[37m\u001b[0m \u001b[1m0s\u001b[0m 8ms/step - accuracy: 0.9276 - loss: 0.6860 - val_accuracy: 0.9697 - val_loss: 0.3652\n",
      "Epoch 15/20\n",
      "\u001b[1m16/16\u001b[0m \u001b[32m━━━━━━━━━━━━━━━━━━━━\u001b[0m\u001b[37m\u001b[0m \u001b[1m0s\u001b[0m 7ms/step - accuracy: 0.9462 - loss: 0.2852 - val_accuracy: 0.9697 - val_loss: 0.3057\n",
      "Epoch 16/20\n",
      "\u001b[1m16/16\u001b[0m \u001b[32m━━━━━━━━━━━━━━━━━━━━\u001b[0m\u001b[37m\u001b[0m \u001b[1m0s\u001b[0m 8ms/step - accuracy: 0.9472 - loss: 0.2496 - val_accuracy: 0.9697 - val_loss: 0.3466\n",
      "Epoch 17/20\n",
      "\u001b[1m16/16\u001b[0m \u001b[32m━━━━━━━━━━━━━━━━━━━━\u001b[0m\u001b[37m\u001b[0m \u001b[1m0s\u001b[0m 8ms/step - accuracy: 0.9207 - loss: 0.6312 - val_accuracy: 0.9697 - val_loss: 0.4658\n",
      "Epoch 18/20\n",
      "\u001b[1m16/16\u001b[0m \u001b[32m━━━━━━━━━━━━━━━━━━━━\u001b[0m\u001b[37m\u001b[0m \u001b[1m0s\u001b[0m 8ms/step - accuracy: 0.9427 - loss: 0.8528 - val_accuracy: 0.9697 - val_loss: 0.2772\n",
      "Epoch 19/20\n",
      "\u001b[1m16/16\u001b[0m \u001b[32m━━━━━━━━━━━━━━━━━━━━\u001b[0m\u001b[37m\u001b[0m \u001b[1m0s\u001b[0m 7ms/step - accuracy: 0.9748 - loss: 0.1853 - val_accuracy: 0.9697 - val_loss: 0.1426\n",
      "Epoch 20/20\n",
      "\u001b[1m16/16\u001b[0m \u001b[32m━━━━━━━━━━━━━━━━━━━━\u001b[0m\u001b[37m\u001b[0m \u001b[1m0s\u001b[0m 8ms/step - accuracy: 0.9676 - loss: 0.3109 - val_accuracy: 0.9697 - val_loss: 0.5246\n",
      "\u001b[1m2/2\u001b[0m \u001b[32m━━━━━━━━━━━━━━━━━━━━\u001b[0m\u001b[37m\u001b[0m \u001b[1m0s\u001b[0m 24ms/step - accuracy: 0.9141 - loss: 1.2777\n",
      "Test Accuracy: 0.90\n"
     ]
    }
   ],
   "source": [
    "model.fit(X_train, y_train, epochs=20, batch_size=8, validation_split=0.2, callbacks=[ch])\n",
    "\n",
    "loss, acc = model.evaluate(X_test, y_test)\n",
    "print(f\"Test Accuracy: {acc:.2f}\")"
   ]
  },
  {
   "cell_type": "code",
   "execution_count": 45,
   "id": "729898fe",
   "metadata": {},
   "outputs": [
    {
     "name": "stderr",
     "output_type": "stream",
     "text": [
      "WARNING:absl:Compiled the loaded model, but the compiled metrics have yet to be built. `model.compile_metrics` will be empty until you train or evaluate the model.\n"
     ]
    },
    {
     "name": "stdout",
     "output_type": "stream",
     "text": [
      "\u001b[1m2/2\u001b[0m \u001b[32m━━━━━━━━━━━━━━━━━━━━\u001b[0m\u001b[37m\u001b[0m \u001b[1m0s\u001b[0m 26ms/step - accuracy: 0.9141 - loss: 1.1391 \n",
      "Test Accuracy: 0.90\n"
     ]
    }
   ],
   "source": [
    "from tensorflow.keras.models import load_model\n",
    "\n",
    "best_model = load_model('stroke_model3.h5')\n",
    "\n",
    "loss, acc = best_model.evaluate(X_test, y_test)\n",
    "print(f\"Test Accuracy: {acc:.2f}\")"
   ]
  },
  {
   "cell_type": "code",
   "execution_count": 51,
   "id": "e7063bb4",
   "metadata": {},
   "outputs": [
    {
     "name": "stderr",
     "output_type": "stream",
     "text": [
      "/home/davidka/.conda/envs/MachineLearning/lib/python3.10/site-packages/keras/src/layers/layer.py:965: UserWarning: Layer 'conv1d_2' (of type Conv1D) was passed an input with a mask attached to it. However, this layer does not support masking and will therefore destroy the mask information. Downstream layers will not see the mask.\n",
      "  warnings.warn(\n",
      "WARNING:absl:Compiled the loaded model, but the compiled metrics have yet to be built. `model.compile_metrics` will be empty until you train or evaluate the model.\n"
     ]
    },
    {
     "name": "stdout",
     "output_type": "stream",
     "text": [
      "\u001b[1m1/1\u001b[0m \u001b[32m━━━━━━━━━━━━━━━━━━━━\u001b[0m\u001b[37m\u001b[0m \u001b[1m0s\u001b[0m 88ms/step\n",
      "Measurement 0: Probability of correct stroke = 0.00\n",
      "Measurement 1: Probability of correct stroke = 0.00\n",
      "Measurement 2: Probability of correct stroke = 0.00\n",
      "Measurement 3: Probability of correct stroke = 0.04\n",
      "Measurement 4: Probability of correct stroke = 1.00\n",
      "Measurement 5: Probability of correct stroke = 0.89\n",
      "Measurement 6: Probability of correct stroke = 1.00\n",
      "Measurement 7: Probability of correct stroke = 1.00\n",
      "Measurement 8: Probability of correct stroke = 1.00\n",
      "Measurement 9: Probability of correct stroke = 1.00\n",
      "Measurement 10: Probability of correct stroke = 1.00\n",
      "Measurement 11: Probability of correct stroke = 1.00\n",
      "Measurement 12: Probability of correct stroke = 1.00\n",
      "Measurement 13: Probability of correct stroke = 0.00\n"
     ]
    }
   ],
   "source": [
    "import pandas as pd\n",
    "import numpy as np\n",
    "from tensorflow.keras.models import load_model\n",
    "\n",
    "# Step 1: Load the new CSV file\n",
    "test_data = load_and_process_measurements(\"jo_evezesek.csv\")  # or use _measurements2 if using 'X' markers\n",
    "\n",
    "# Step 2: Prepare sequence data\n",
    "X_test, _ = prepare_sequence_data(test_data, label_value=1, max_len=X_correct.shape[1])  # re-use max_len from training\n",
    "\n",
    "# Step 3: Load your saved model\n",
    "model = load_model(\"stroke_model3.h5\")\n",
    "\n",
    "# Step 4: Run predictions\n",
    "predictions = model.predict(X_test)\n",
    "\n",
    "# Step 5: Show results\n",
    "for i, prob in enumerate(predictions):\n",
    "    print(f\"Measurement {i}: Probability of correct stroke = {prob[0]:.2f}\")\n"
   ]
  }
 ],
 "metadata": {
  "kernelspec": {
   "display_name": "MachineLearning",
   "language": "python",
   "name": "python3"
  },
  "language_info": {
   "codemirror_mode": {
    "name": "ipython",
    "version": 3
   },
   "file_extension": ".py",
   "mimetype": "text/x-python",
   "name": "python",
   "nbconvert_exporter": "python",
   "pygments_lexer": "ipython3",
   "version": "3.10.17"
  }
 },
 "nbformat": 4,
 "nbformat_minor": 5
}
